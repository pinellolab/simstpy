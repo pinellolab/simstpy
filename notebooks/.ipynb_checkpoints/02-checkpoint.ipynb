{
 "cells": [
  {
   "cell_type": "code",
   "execution_count": null,
   "id": "e1f4ad76-354b-4593-940b-e424c211b710",
   "metadata": {},
   "outputs": [],
   "source": [
    "##############奥运五环##########\n",
    "import turtle\n",
    "turtle.color(\"blue\")#输入颜色\n",
    "turtle.penup()#笔抬起来\n",
    "turtle.goto(-110,-25)#挪动位置\n",
    "turtle.pendown()#笔放下来\n",
    "turtle.circle(45)#划线\n",
    "\n",
    "turtle.color(\"black\")\n",
    "turtle.penup()\n",
    "turtle.goto(0,-25)\n",
    "turtle.pendown()\n",
    "turtle.circle(45)\n",
    "\n",
    "turtle.color(\"red\")\n",
    "turtle.penup()\n",
    "turtle.goto(110,-25)\n",
    "turtle.pendown()\n",
    "turtle.circle(45)\n",
    "\n",
    "turtle.color(\"yellow\")\n",
    "turtle.penup()\n",
    "turtle.goto(-55,-75)\n",
    "turtle.pendown()\n",
    "turtle.circle(45)\n",
    "\n",
    "turtle.color(\"green\")\n",
    "turtle.penup()\n",
    "turtle.goto(55,-75)\n",
    "turtle.pendown()\n",
    "turtle.circle(45)\n",
    "\n",
    "turtle.done()\n"
   ]
  }
 ],
 "metadata": {
  "kernelspec": {
   "display_name": "Python 3 (ipykernel)",
   "language": "python",
   "name": "python3"
  },
  "language_info": {
   "codemirror_mode": {
    "name": "ipython",
    "version": 3
   },
   "file_extension": ".py",
   "mimetype": "text/x-python",
   "name": "python",
   "nbconvert_exporter": "python",
   "pygments_lexer": "ipython3",
   "version": "3.10.9"
  }
 },
 "nbformat": 4,
 "nbformat_minor": 5
}
