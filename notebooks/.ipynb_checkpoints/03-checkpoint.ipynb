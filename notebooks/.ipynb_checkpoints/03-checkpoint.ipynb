{
 "cells": [
  {
   "cell_type": "code",
   "execution_count": null,
   "id": "29248799-7f4f-4465-949d-26f4fb9fbb51",
   "metadata": {},
   "outputs": [],
   "source": [
    "## Load the package gstat\n",
    "library(gstat)\n",
    "## Create a square field of side 100. The field can be seen as a grid of regularly spaced pixels\n",
    "Field = expand.grid(1:100, 1:100)\n",
    "## Set the name of the spatial coordinates within the field\n",
    "names(Field)=c('x','y')\n",
    " \n",
    "## Define the yield spatial structure inside the field\n",
    "   ## Set the parameters of the semi-variogram\n",
    "      Psill=15  ## Partial sill = Magnitude of variation\n",
    "      Range=30  ## Maximal distance of autocorrelation\n",
    "      Nugget=3  ## Small-scale variations\n",
    "   ## Set the semi-variogram model\n",
    "      Beta=7   ## mean yield (tons/ha) in the field\n",
    "      RDT_modelling=gstat(formula=z~1, ## We assume that there is a constant trend in the data\n",
    "                           locations=~x+y,\n",
    "                           dummy=T,    ## Logical value to set to True for unconditional simulation\n",
    "                           beta=Beta,  ## Necessity to set the average value over the field\n",
    "                           model=vgm(psill=Psill,\n",
    "                                     range=Range ,\n",
    "                                     nugget=Nugget,\n",
    "                                     model='Sph'), ## Spherical semi-variogram model\n",
    "                           nmax=40) ## number of nearest observations used for each new prediction\n",
    " \n",
    "## Simulate the yield spatial structure within the field\n",
    "RDT_gaussian_field=predict(RDT_modelling, newdata=Field, nsim=1) ## nsim : Nombre de simulations"
   ]
  },
  {
   "cell_type": "code",
   "execution_count": null,
   "id": "910cdb7b-77b1-4668-b0b8-80dd0e903e79",
   "metadata": {},
   "outputs": [],
   "source": []
  }
 ],
 "metadata": {
  "kernelspec": {
   "display_name": "R",
   "language": "R",
   "name": "ir"
  },
  "language_info": {
   "name": ""
  }
 },
 "nbformat": 4,
 "nbformat_minor": 5
}
