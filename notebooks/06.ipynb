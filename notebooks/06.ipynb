{
 "cells": [
  {
   "cell_type": "code",
   "execution_count": 17,
   "id": "92985164-7eeb-46ef-b53c-460506a70ef4",
   "metadata": {
    "tags": []
   },
   "outputs": [],
   "source": [
    "import pandas as pd\n",
    "import simstpy as sim\n",
    "import numpy as np\n",
    "import scipy as sp\n",
    "from anndata import AnnData\n",
    "from muon import atac as ac\n",
    "import scanpy as sc"
   ]
  },
  {
   "cell_type": "code",
   "execution_count": 2,
   "id": "90053fc3-6bf3-4c4f-a257-29e7ef69de47",
   "metadata": {
    "tags": []
   },
   "outputs": [
    {
     "data": {
      "text/html": [
       "<div>\n",
       "<style scoped>\n",
       "    .dataframe tbody tr th:only-of-type {\n",
       "        vertical-align: middle;\n",
       "    }\n",
       "\n",
       "    .dataframe tbody tr th {\n",
       "        vertical-align: top;\n",
       "    }\n",
       "\n",
       "    .dataframe thead th {\n",
       "        text-align: right;\n",
       "    }\n",
       "</style>\n",
       "<table border=\"1\" class=\"dataframe\">\n",
       "  <thead>\n",
       "    <tr style=\"text-align: right;\">\n",
       "      <th></th>\n",
       "      <th>x</th>\n",
       "      <th>y</th>\n",
       "      <th>spatial_cluster</th>\n",
       "    </tr>\n",
       "  </thead>\n",
       "  <tbody>\n",
       "    <tr>\n",
       "      <th>AAACAAGTATCTCCCA-1</th>\n",
       "      <td>9171</td>\n",
       "      <td>8586</td>\n",
       "      <td>L3</td>\n",
       "    </tr>\n",
       "    <tr>\n",
       "      <th>AAACAATCTACTAGCA-1</th>\n",
       "      <td>5127</td>\n",
       "      <td>2944</td>\n",
       "      <td>L1</td>\n",
       "    </tr>\n",
       "    <tr>\n",
       "      <th>AAACACCAATAACTGC-1</th>\n",
       "      <td>3454</td>\n",
       "      <td>9646</td>\n",
       "      <td>WM</td>\n",
       "    </tr>\n",
       "    <tr>\n",
       "      <th>AAACAGAGCGACTCCT-1</th>\n",
       "      <td>8634</td>\n",
       "      <td>4273</td>\n",
       "      <td>L1</td>\n",
       "    </tr>\n",
       "    <tr>\n",
       "      <th>AAACAGCTTTCAGAAG-1</th>\n",
       "      <td>2772</td>\n",
       "      <td>7728</td>\n",
       "      <td>L6</td>\n",
       "    </tr>\n",
       "  </tbody>\n",
       "</table>\n",
       "</div>"
      ],
      "text/plain": [
       "                       x     y spatial_cluster\n",
       "AAACAAGTATCTCCCA-1  9171  8586              L3\n",
       "AAACAATCTACTAGCA-1  5127  2944              L1\n",
       "AAACACCAATAACTGC-1  3454  9646              WM\n",
       "AAACAGAGCGACTCCT-1  8634  4273              L1\n",
       "AAACAGCTTTCAGAAG-1  2772  7728              L6"
      ]
     },
     "execution_count": 2,
     "metadata": {},
     "output_type": "execute_result"
    }
   ],
   "source": [
    "df_spatial = sim.spatial.read_pattern(\"human_DLPFC_151508\")\n",
    "df_spatial.head()"
   ]
  },
  {
   "cell_type": "code",
   "execution_count": 3,
   "id": "5acfa82d-45bb-4fe7-b89c-6dda8575e3ab",
   "metadata": {
    "tags": []
   },
   "outputs": [],
   "source": [
    "group_name = \"spatial_cluster\"\n",
    "n_da_peaks = 1000\n",
    "n_non_da_peaks = 10000\n",
    "n_unique_fragments = 10000"
   ]
  },
  {
   "cell_type": "code",
   "execution_count": 4,
   "id": "731661af-da92-44f8-9b05-b8420713a634",
   "metadata": {
    "tags": []
   },
   "outputs": [],
   "source": [
    "df_spatial[group_name] = df_spatial[group_name].astype(str)\n",
    "n_groups = len(df_spatial[group_name].unique())"
   ]
  },
  {
   "cell_type": "code",
   "execution_count": 5,
   "id": "a2eed5a2-fae7-4329-8aeb-c1312c6a9f92",
   "metadata": {
    "tags": []
   },
   "outputs": [],
   "source": [
    "gamma_dist = sp.stats.gamma(*(0.6227306182997188, 0, 0.24285327175872837))"
   ]
  },
  {
   "cell_type": "code",
   "execution_count": 6,
   "id": "f991c713-9057-4213-b749-fd59cff96c92",
   "metadata": {
    "tags": []
   },
   "outputs": [],
   "source": [
    "da_peaks = gamma_dist.rvs(n_da_peaks)\n",
    "non_da_peaks = gamma_dist.rvs(n_non_da_peaks)"
   ]
  },
  {
   "cell_type": "code",
   "execution_count": 7,
   "id": "8bd35ad4-c2a2-4265-b21c-d4ec7104e5bc",
   "metadata": {
    "tags": []
   },
   "outputs": [],
   "source": [
    "# for SVGs, we split the genes into serveral groups\n",
    "da_peaks_list = np.array_split(range(n_da_peaks), n_groups)\n",
    "all_cell_ids, accessibility = [], np.empty((0, n_da_peaks + n_non_da_peaks))"
   ]
  },
  {
   "cell_type": "code",
   "execution_count": 8,
   "id": "413833c7-d4e5-4e2a-b0b1-421b0705d02d",
   "metadata": {
    "tags": []
   },
   "outputs": [],
   "source": [
    "for i, cell_group in enumerate(df_spatial[group_name].unique()):\n",
    "        cell_ids = df_spatial.index.values[df_spatial[group_name].values == cell_group]\n",
    "        all_cell_ids += list(cell_ids)\n",
    "\n",
    "        # randomly select a number of DE genes\n",
    "        da_peaks_idx = da_peaks_list[i]\n",
    "\n",
    "        # generate DE factor from log-normal distribution\n",
    "        _da_peaks = da_peaks.copy()\n",
    "        _da_peaks[da_peaks_idx] = _da_peaks[da_peaks_idx] * 8\n",
    "\n",
    "        peak_acc = np.concatenate((_da_peaks, non_da_peaks))\n",
    "\n",
    "        peak_acc = peak_acc / np.sum(peak_acc)\n",
    "        peak_acc = np.expand_dims(peak_acc, axis=0)\n",
    "\n",
    "        _lib_size = np.random.poisson(lam=10000, size=len(cell_ids))\n",
    "        _lib_size = np.expand_dims(_lib_size, axis=1)\n",
    "        mat = np.matmul(_lib_size, peak_acc)   \n",
    "        accessibility = np.concatenate((accessibility, mat), axis=0) "
   ]
  },
  {
   "cell_type": "code",
   "execution_count": 9,
   "id": "70560d4a-1dcc-40d6-a723-1a535f359133",
   "metadata": {
    "tags": []
   },
   "outputs": [
    {
     "data": {
      "text/plain": [
       "array([[0.23322836, 0.6757534 , 2.00268949, ..., 0.09244019, 0.63358895,\n",
       "        0.45669266],\n",
       "       [0.23409677, 0.67826954, 2.01014642, ..., 0.09278439, 0.63594809,\n",
       "        0.45839314],\n",
       "       [0.23475395, 0.68017364, 2.0157895 , ..., 0.09304486, 0.63773339,\n",
       "        0.45967998],\n",
       "       ...,\n",
       "       [0.02910674, 0.08433358, 0.24993432, ..., 0.0922918 , 0.63257184,\n",
       "        0.45595953],\n",
       "       [0.02854918, 0.08271809, 0.24514659, ..., 0.09052386, 0.62045433,\n",
       "        0.44722519],\n",
       "       [0.02919386, 0.084586  , 0.2506824 , ..., 0.09256804, 0.6344652 ,\n",
       "        0.45732427]])"
      ]
     },
     "execution_count": 9,
     "metadata": {},
     "output_type": "execute_result"
    }
   ],
   "source": [
    "accessibility"
   ]
  },
  {
   "cell_type": "code",
   "execution_count": 10,
   "id": "76970997-b1e3-4de4-b5da-200cc4567288",
   "metadata": {
    "tags": []
   },
   "outputs": [],
   "source": [
    "# find the maximum value of each row\n",
    "max_values = np.max(accessibility, axis=1)\n",
    "\n",
    "# divide each row by its corresponding maximum value\n",
    "res = accessibility / max_values[:, np.newaxis]\n",
    "\n",
    "counts = np.random.binomial(n=1, p=res)\n",
    "counts = sp.sparse.csr_matrix(counts)\n",
    "adata = AnnData(counts, dtype=np.float32)"
   ]
  },
  {
   "cell_type": "code",
   "execution_count": 11,
   "id": "7afcda98-c385-4234-bca5-deaec97e65f6",
   "metadata": {
    "tags": []
   },
   "outputs": [
    {
     "data": {
      "text/plain": [
       "AnnData object with n_obs × n_vars = 4381 × 11000"
      ]
     },
     "execution_count": 11,
     "metadata": {},
     "output_type": "execute_result"
    }
   ],
   "source": [
    "adata"
   ]
  },
  {
   "cell_type": "code",
   "execution_count": 12,
   "id": "48022b20-7bd5-43e4-8f78-ca79b80d762f",
   "metadata": {
    "tags": []
   },
   "outputs": [
    {
     "name": "stderr",
     "output_type": "stream",
     "text": [
      "/home/rs619065/miniconda3/envs/svg/lib/python3.9/site-packages/muon/_atac/preproc.py:106: RuntimeWarning: divide by zero encountered in true_divide\n",
      "  idf = np.asarray(adata.shape[0] / adata.X.sum(axis=0)).reshape(-1)\n"
     ]
    }
   ],
   "source": [
    "ac.preproc.tfidf(adata)"
   ]
  },
  {
   "cell_type": "code",
   "execution_count": 13,
   "id": "0edcaac7-48f4-4c99-8f40-159aba735328",
   "metadata": {
    "tags": []
   },
   "outputs": [],
   "source": [
    "ac.tools.lsi(adata)"
   ]
  },
  {
   "cell_type": "code",
   "execution_count": 14,
   "id": "69e2e621-5a95-44c8-8b59-1f9e829e3c09",
   "metadata": {
    "tags": []
   },
   "outputs": [],
   "source": [
    "sc.pp.neighbors(adata, use_rep=\"X_lsi\", n_neighbors=10, n_pcs=30)"
   ]
  },
  {
   "cell_type": "code",
   "execution_count": 15,
   "id": "fc17f2e1-3159-4a53-b8ac-918c4f84528e",
   "metadata": {
    "tags": []
   },
   "outputs": [],
   "source": [
    "sc.tl.umap(adata, spread=1.5, min_dist=.5, random_state=20)"
   ]
  },
  {
   "cell_type": "code",
   "execution_count": 16,
   "id": "4c47a347-eab0-4386-8e3b-04dbb0d3d208",
   "metadata": {
    "tags": []
   },
   "outputs": [
    {
     "name": "stderr",
     "output_type": "stream",
     "text": [
      "/home/rs619065/miniconda3/envs/svg/lib/python3.9/site-packages/scanpy/plotting/_tools/scatterplots.py:392: UserWarning: No data for colormapping provided via 'c'. Parameters 'cmap', 'norm' will be ignored\n",
      "  cax = scatter(\n"
     ]
    },
    {
     "data": {
      "image/png": "[encoded data removed]",
      "text/plain": [
       "<Figure size 640x480 with 1 Axes>"
      ]
     },
     "metadata": {},
     "output_type": "display_data"
    }
   ],
   "source": [
    "ac.pl.umap(adata, use_raw=False)"
   ]
  },
  {
   "cell_type": "code",
   "execution_count": null,
   "id": "adaa434d-fcd1-40fa-ac10-3135f9c55cb7",
   "metadata": {},
   "outputs": [],
   "source": []
  }
 ],
 "metadata": {
  "kernelspec": {
   "display_name": "Python 3 (ipykernel)",
   "language": "python",
   "name": "python3"
  },
  "language_info": {
   "codemirror_mode": {
    "name": "ipython",
    "version": 3
   },
   "file_extension": ".py",
   "mimetype": "text/x-python",
   "name": "python",
   "nbconvert_exporter": "python",
   "pygments_lexer": "ipython3",
   "version": "3.9.16"
  }
 },
 "nbformat": 4,
 "nbformat_minor": 5
}
